{
  "nbformat": 4,
  "nbformat_minor": 0,
  "metadata": {
    "colab": {
      "name": "Python Primer - ML at RIME 2020.ipynb",
      "provenance": [],
      "collapsed_sections": [],
      "authorship_tag": "ABX9TyMARJ5pVedCC/6F9HseUaEc",
      "include_colab_link": true
    },
    "kernelspec": {
      "name": "python3",
      "display_name": "Python 3"
    }
  },
  "cells": [
    {
      "cell_type": "markdown",
      "metadata": {
        "id": "view-in-github",
        "colab_type": "text"
      },
      "source": [
        "<a href=\"https://colab.research.google.com/github/salmanmaq/python_tutorial_colab/blob/main/Python_Primer_ML_at_RIME_2020.ipynb\" target=\"_parent\"><img src=\"https://colab.research.google.com/assets/colab-badge.svg\" alt=\"Open In Colab\"/></a>"
      ]
    },
    {
      "cell_type": "markdown",
      "metadata": {
        "id": "ac5LCR7Wa1Lu"
      },
      "source": [
        "This tutorial is apapted from the [CS231n](http://cs231n.stanford.edu/) python primer, which can be found [here](https://colab.research.google.com/github/cs231n/cs231n.github.io/blob/master/python-colab.ipynb).\n",
        "\n",
        "I recommend going through that full tutorial afterwards to learn more, and get acquainted with more advanced concepts and useful python librarires for machine learning.\n",
        "\n",
        "For feedback, questions, and comments, I can be reached at [my email](mailto:smaqbool@smme.edu.pk)."
      ]
    },
    {
      "cell_type": "markdown",
      "metadata": {
        "id": "tg4BMql2iKM8"
      },
      "source": [
        "## Basic data types"
      ]
    },
    {
      "cell_type": "code",
      "metadata": {
        "id": "3F7SqdfRh1zo"
      },
      "source": [
        "# Numbers\n",
        "1"
      ],
      "execution_count": null,
      "outputs": []
    },
    {
      "cell_type": "code",
      "metadata": {
        "id": "gSZdWEX5avlM"
      },
      "source": [
        "# Variable definition\n",
        "x = 1"
      ],
      "execution_count": null,
      "outputs": []
    },
    {
      "cell_type": "code",
      "metadata": {
        "id": "QrAO0vG6iXKd"
      },
      "source": [
        "# Print\n",
        "print(x)"
      ],
      "execution_count": null,
      "outputs": []
    },
    {
      "cell_type": "code",
      "metadata": {
        "id": "l340oS52jFxS"
      },
      "source": [
        "# Arithmetic operations\n",
        "x1 = 2\n",
        "x2 = 3\n",
        "# x2 = 3.0"
      ],
      "execution_count": null,
      "outputs": []
    },
    {
      "cell_type": "code",
      "metadata": {
        "id": "11H0kcH6jOes"
      },
      "source": [
        "# Arithmetic operations 2\n",
        "print(x1 + x2)\n",
        "print()\n",
        "\n",
        "print(f'Addtion: {x1 + x2}')  ## Addition\n",
        "print(f'Subtraction: {x1 - x2}')  ## Subtraction\n",
        "print(f'Multiplication: {x1 * x2}')  ## Multiplication\n",
        "print('\\n')\n",
        "\n",
        "print(f'Division: {x1 / x2}')  ## Division\n",
        "print(f'Integer division: {x1 // x2}') ## Division 2\n",
        "print(f'Divison: {x2 / x1}')  ## Divison 3\n",
        "print(f'Integer division: {x2 // x1}')  ## Divison 4\n",
        "print()\n",
        "\n",
        "print(f'Exponentiation: {x1 ** x2}') ## Exponentiation (Raise to a power)\n",
        "print()\n",
        "\n",
        "print(f'Remainder: {x2 % x1}') # Modulus 1\n",
        "print(f'Remainder: {x1 % x2}') # Modulus 2"
      ],
      "execution_count": null,
      "outputs": []
    },
    {
      "cell_type": "code",
      "metadata": {
        "id": "OJrg7OFUlqXI"
      },
      "source": [
        "# Incremental arithmetic\n",
        "x = 2\n",
        "print(x)\n",
        "\n",
        "x += 1\n",
        "print(x)\n",
        "\n",
        "x -= 1\n",
        "print(x)\n",
        "\n",
        "x *= x\n",
        "print(x)\n",
        "\n",
        "x = 1\n",
        "\n",
        "x /= 4\n",
        "print(x)"
      ],
      "execution_count": null,
      "outputs": []
    },
    {
      "cell_type": "code",
      "metadata": {
        "id": "gs-sRvYXiZbn"
      },
      "source": [
        "# Strings\n",
        "s1 = 'This is'\n",
        "s2 = \"amazing\""
      ],
      "execution_count": null,
      "outputs": []
    },
    {
      "cell_type": "code",
      "metadata": {
        "id": "mOR4DN9XijDA"
      },
      "source": [
        "# String concatenation\n",
        "print(s1 + s2)"
      ],
      "execution_count": null,
      "outputs": []
    },
    {
      "cell_type": "code",
      "metadata": {
        "id": "Wl72rMmoi5Fm"
      },
      "source": [
        "# String concatenation\n",
        "print(s1 + ' ' + s2)"
      ],
      "execution_count": null,
      "outputs": []
    },
    {
      "cell_type": "code",
      "metadata": {
        "id": "bbOlEMXsisfV"
      },
      "source": [
        "# String concatenation 3\n",
        "print(f'{s1} {s2}!')"
      ],
      "execution_count": null,
      "outputs": []
    },
    {
      "cell_type": "code",
      "metadata": {
        "id": "ANI7C0_fm0a4"
      },
      "source": [
        "# String length\n",
        "print(len(s1))\n",
        "print(len(s2))\n",
        "print(len(s1 + ' ' + s2))"
      ],
      "execution_count": null,
      "outputs": []
    },
    {
      "cell_type": "code",
      "metadata": {
        "id": "SVJPH_9tnEXh"
      },
      "source": [
        "# String operations\n",
        "s = 'hello'\n",
        "print(s)"
      ],
      "execution_count": null,
      "outputs": []
    },
    {
      "cell_type": "code",
      "metadata": {
        "id": "Oy_zycDkniPH"
      },
      "source": [
        "# String operations 2\n",
        "print(s.capitalize())\n",
        "print(s.upper())\n",
        "print(s.lower())\n",
        "print(s.replace('h', 'y'))\n",
        "print(s1.split())\n",
        "print('   wow    '.strip())"
      ],
      "execution_count": null,
      "outputs": []
    },
    {
      "cell_type": "code",
      "metadata": {
        "id": "7TQKZ4YVmOQZ"
      },
      "source": [
        "# Bools\n",
        "x = True\n",
        "y = False"
      ],
      "execution_count": null,
      "outputs": []
    },
    {
      "cell_type": "code",
      "metadata": {
        "id": "jvaKU7QXmTwg"
      },
      "source": [
        "# Boolean operations\n",
        "print(x and y)\n",
        "print(x or y)\n",
        "print(not x)\n",
        "print(x == y)\n",
        "print(x != y)"
      ],
      "execution_count": null,
      "outputs": []
    },
    {
      "cell_type": "code",
      "metadata": {
        "id": "4jH5nIwc3DGP"
      },
      "source": [
        "## Type checking\n",
        "print(type(1))\n",
        "print(type(3.2))\n",
        "print(type(y))\n",
        "print(type(s))"
      ],
      "execution_count": null,
      "outputs": []
    },
    {
      "cell_type": "markdown",
      "metadata": {
        "id": "H5CihPtToS69"
      },
      "source": [
        "## Data structures"
      ]
    },
    {
      "cell_type": "code",
      "metadata": {
        "id": "Mu7epLrqokG7"
      },
      "source": [
        "# Lists\n",
        "l = [1, 2, 3, 4, 'foo']\n",
        "print(l)\n",
        "print(len(l))\n",
        "\n",
        "# List operations\n",
        "\n",
        "## Indexing\n",
        "print(l[0])\n",
        "print(l[-1])\n",
        "print(l[-2])\n",
        "\n",
        "## Append\n",
        "l.append('bar')\n",
        "print(l)\n",
        "print(len(l))\n",
        "\n",
        "## Pop\n",
        "l.pop()\n",
        "print(l)\n",
        "print(len(l))\n",
        "\n",
        "## Delete element\n",
        "l.remove(2)\n",
        "print(l)\n",
        "\n",
        "## Delete element by index\n",
        "del(l[0])\n",
        "print(l)\n",
        "\n",
        "## Value reassignment\n",
        "l[0] = 'wow'\n",
        "print(l)"
      ],
      "execution_count": null,
      "outputs": []
    },
    {
      "cell_type": "code",
      "metadata": {
        "id": "HLeF8DJ2zV4L"
      },
      "source": [
        "# List of lists\n",
        "\n",
        "lol = [ \n",
        "       [1, 2, 3],\n",
        "       [4, 5, 6],\n",
        "       [7, 8, 9],\n",
        "       [10, 11, 12],\n",
        "       [13, 14, 15],\n",
        "       [16, 17, 18]\n",
        "      ]\n",
        "\n",
        "## Nested list indexing\n",
        "print(lol[0])\n",
        "print(lol[1][1])\n",
        "print()\n",
        "\n",
        "## Slicing\n",
        "print(lol[0:1])\n",
        "print(lol[0:2])\n",
        "print(lol[:2])\n",
        "print(lol[:-1])\n",
        "print(lol[2:5])"
      ],
      "execution_count": null,
      "outputs": []
    },
    {
      "cell_type": "code",
      "metadata": {
        "id": "UZq-IYzT0Hhb"
      },
      "source": [
        "# Sets (Are unordered)\n",
        "se1 = {0, 1, 2, 3, 4, 5}\n",
        "print(se1)\n",
        "\n",
        "## No duplicates allowed\n",
        "se2 = {0, 1, 2, 3, 4, 5, 0, 1, 4}\n",
        "print(se2)\n",
        "\n",
        "## Add\n",
        "se1.add(23)\n",
        "print(se1)\n",
        "\n",
        "## Add duplicate\n",
        "se1.add(5)\n",
        "print(se1)\n",
        "\n",
        "## Remove element\n",
        "se1.remove(1)\n",
        "print(se1)\n",
        "\n",
        "## Set indexing (Uncomment below to see what happens)\n",
        "# se1[2]"
      ],
      "execution_count": null,
      "outputs": []
    },
    {
      "cell_type": "code",
      "metadata": {
        "id": "vH8iXsID2t0q"
      },
      "source": [
        "# Tuples (immutable/not changable)\n",
        "t = (0, 1, 2, 3)\n",
        "print(t)\n",
        "\n",
        "## Indexing\n",
        "print(t[0])\n",
        "print(t[1:])\n",
        "print()\n",
        "\n",
        "## Modify element (not possible) (Uncomment below to see what happens)\n",
        "# t[0] = 42"
      ],
      "execution_count": null,
      "outputs": []
    },
    {
      "cell_type": "code",
      "metadata": {
        "id": "UY2vkQt84LQG"
      },
      "source": [
        "## Dictionaries (key: value)\n",
        "d = {'red': 0, 'green': 1, 'blue': 2}\n",
        "print(d)\n",
        "\n",
        "## Add element\n",
        "d['yellow'] = 3\n",
        "print(d)\n",
        "\n",
        "## Access element value\n",
        "print(d['red'])\n",
        "\n",
        "## Modify element value\n",
        "d['red'] = 101\n",
        "print(d)\n",
        "\n",
        "## Delete element\n",
        "del d['red']\n",
        "print(d)\n",
        "\n",
        "## Check element presence\n",
        "print('red' in d)\n",
        "print('blue' in d)\n",
        "\n",
        "## Keys in dictionary\n",
        "print(d.keys())\n",
        "\n",
        "## Values in dictionary\n",
        "print(d.values())\n",
        "\n",
        "## Items in dictionary\n",
        "print(d.items())"
      ],
      "execution_count": null,
      "outputs": []
    },
    {
      "cell_type": "markdown",
      "metadata": {
        "id": "efIKgKdZ6M0U"
      },
      "source": [
        "## Loops"
      ]
    },
    {
      "cell_type": "code",
      "metadata": {
        "id": "gMLElS7_583e"
      },
      "source": [
        "# Lists\n",
        "names = ['salman', 'hasan', 'umer', 'haseeb', 'aayesha', 'hood']\n",
        "for name in names:\n",
        "  print(name)\n",
        "\n",
        "print()\n",
        "\n",
        "## Not recommended but still has some use cases\n",
        "for i in range(len(names)):\n",
        "  print(names[i])\n",
        "\n",
        "print()\n",
        "\n",
        "for i, name in enumerate(names):\n",
        "  print(f'{i}: {name}')"
      ],
      "execution_count": null,
      "outputs": []
    },
    {
      "cell_type": "code",
      "metadata": {
        "id": "th37GUtP6cU1"
      },
      "source": [
        "# Sets\n",
        "values = {0, 1, 2, 3, 4, 5, 6, 7, 8, 9}\n",
        "for value in values:\n",
        "  print(value)"
      ],
      "execution_count": null,
      "outputs": []
    },
    {
      "cell_type": "code",
      "metadata": {
        "id": "viWClSMd6wvH"
      },
      "source": [
        "# Dicts\n",
        "driver_ratings = {'d0': 3.7, 'd1': 4.8, 'd2': 3.4, 'd3': 5.0, 'd4': 2.3, 'd5': 0.4}\n",
        "print('d1' in driver_ratings)\n",
        "\n",
        "for driver, rating in driver_ratings.items():\n",
        "  print(f'Driver {driver} has rating: {rating}')"
      ],
      "execution_count": null,
      "outputs": []
    },
    {
      "cell_type": "markdown",
      "metadata": {
        "id": "-anvineH80xY"
      },
      "source": [
        "## Comprehensions"
      ]
    },
    {
      "cell_type": "code",
      "metadata": {
        "id": "oRqOaQvV736N"
      },
      "source": [
        "# Lists\n",
        "nums = [0, 1, 2, 3, 4, 5]\n",
        "print(nums)\n",
        "\n",
        "nums_squared = [x**2 for x in nums]\n",
        "print (nums_squared)\n",
        "\n",
        "# Only return even numbers\n",
        "even_nums = [x for x in nums if x % 2 == 0]\n",
        "print(even_nums)\n",
        "\n",
        "# Quite similar for sets"
      ],
      "execution_count": null,
      "outputs": []
    },
    {
      "cell_type": "code",
      "metadata": {
        "id": "fFOERSWL9P_q"
      },
      "source": [
        "# Dicts\n",
        "driver_ratings = {'d0': 3.7, 'd1': 4.8, 'd2': 3.4, 'd3': 5.0, 'd4': 2.3, 'd5': 0.4}\n",
        "\n",
        "good_drivers = {k: v for k, v in driver_ratings.items() if v >= 4.0}\n",
        "print(good_drivers)"
      ],
      "execution_count": null,
      "outputs": []
    },
    {
      "cell_type": "markdown",
      "metadata": {
        "id": "yT9mcCkw-FHs"
      },
      "source": [
        "## Conditional execution"
      ]
    },
    {
      "cell_type": "code",
      "metadata": {
        "id": "BZbaXNuM9yWp"
      },
      "source": [
        "nums = [-2, -1, 0, 1, 2, 3, 4, 5]\n",
        "\n",
        "for num in nums:\n",
        "  if num < 0:\n",
        "    print(f'{num} is negative')\n",
        "  elif num == 0:\n",
        "    print(f'{num} is Zero')\n",
        "  else:\n",
        "    print(f'{num} is positive')\n",
        "\n",
        "print()\n",
        "\n",
        "for num in nums:\n",
        "  if num != 0:\n",
        "    continue\n",
        "  else:\n",
        "    print('We found zero')"
      ],
      "execution_count": null,
      "outputs": []
    },
    {
      "cell_type": "code",
      "metadata": {
        "id": "gsxZuUQR-mzE"
      },
      "source": [
        "needle = 0.23\n",
        "haystack1 = {0, 1, 2, 3, 0.34, 0.2, -123}\n",
        "haystack2 = {0, 1, 2, 3, 0.34, 0.2, -123, 0.23}\n",
        "\n",
        "if needle in haystack1:\n",
        "  print('Needle found')\n",
        "else:\n",
        "  print('Needle not found')"
      ],
      "execution_count": null,
      "outputs": []
    },
    {
      "cell_type": "markdown",
      "metadata": {
        "id": "4rDy1wjJAfZL"
      },
      "source": [
        "##  Functions"
      ]
    },
    {
      "cell_type": "markdown",
      "metadata": {
        "id": "QQqyDlCDKLVT"
      },
      "source": [
        "![Needle in a haystack](https://www.discovery.org/m/sites/71/2019/11/needle-in-haystack-1200x797.jpeg)\n",
        "Image credits: [Discovery Institute](https://www.discovery.org/education/2019/11/19/needle-in-a-haystack-school-innovation/)"
      ]
    },
    {
      "cell_type": "code",
      "metadata": {
        "id": "diL25RHvAe-D"
      },
      "source": [
        "def find_needle(needle, haystack):\n",
        "  if needle in haystack:\n",
        "    return True\n",
        "  else:\n",
        "    return False"
      ],
      "execution_count": null,
      "outputs": []
    },
    {
      "cell_type": "code",
      "metadata": {
        "id": "UqWT7X8L-9NL"
      },
      "source": [
        "find_needle(needle, haystack1)"
      ],
      "execution_count": null,
      "outputs": []
    },
    {
      "cell_type": "code",
      "metadata": {
        "id": "vI7ql1ZgBgCI"
      },
      "source": [
        "find_needle(needle=0, haystack=haystack1)"
      ],
      "execution_count": null,
      "outputs": []
    },
    {
      "cell_type": "code",
      "metadata": {
        "id": "rK5IObMcBriQ"
      },
      "source": [
        "find_needle(needle, haystack2)"
      ],
      "execution_count": null,
      "outputs": []
    },
    {
      "cell_type": "markdown",
      "metadata": {
        "id": "X_SdWHnDCGLh"
      },
      "source": [
        "## Classes"
      ]
    },
    {
      "cell_type": "code",
      "metadata": {
        "id": "URMA8-asCFNc"
      },
      "source": [
        "## Stupid example for a hypothetical place with stupid health insurance regulations\n",
        "class Person:\n",
        "\n",
        "  def __init__(self, name, age, is_insured=False):\n",
        "    self.name = name\n",
        "    self.age = age\n",
        "    self.is_insured = is_insured\n",
        "\n",
        "  def check_insurance_eligibility(self):\n",
        "    '''\n",
        "    Rules:\n",
        "    1. If a person is already insured, return that, irrespective of age\n",
        "    2. If a person is not insured and above 65, return not eligible\n",
        "    3. If a person is not insured and below 65, return eligible\n",
        "    '''\n",
        "    if self.is_insured:\n",
        "      return f'{self.name} is already insured'\n",
        "    else:\n",
        "      if self.age <= 65:\n",
        "        return f'{self.name} is eligible for insurance'\n",
        "      else:\n",
        "        return f'{self.name} is not eligible for insurance'"
      ],
      "execution_count": null,
      "outputs": []
    },
    {
      "cell_type": "code",
      "metadata": {
        "id": "9oufJsOhB_Ny"
      },
      "source": [
        "salman = Person(name='Salman', age=67)"
      ],
      "execution_count": null,
      "outputs": []
    },
    {
      "cell_type": "code",
      "metadata": {
        "id": "B80QCgnnEfx1"
      },
      "source": [
        "print(salman.name)\n",
        "print(salman.age)\n",
        "print(salman.is_insured)\n",
        "print(salman.check_insurance_eligibility())"
      ],
      "execution_count": null,
      "outputs": []
    },
    {
      "cell_type": "code",
      "metadata": {
        "id": "gueYkhJhEpSP"
      },
      "source": [
        "fred = Person(name='Fred', age=97, is_insured=True)"
      ],
      "execution_count": null,
      "outputs": []
    },
    {
      "cell_type": "code",
      "metadata": {
        "id": "vgvdFmkFFULb"
      },
      "source": [
        "print(fred.name)\n",
        "print(fred.age)\n",
        "print(fred.is_insured)\n",
        "print(fred.check_insurance_eligibility())"
      ],
      "execution_count": null,
      "outputs": []
    },
    {
      "cell_type": "code",
      "metadata": {
        "id": "wzl91HFKFbqe"
      },
      "source": [
        "baby_yoda = Person(name='Baby Yoda', age=50, is_insured=False)"
      ],
      "execution_count": null,
      "outputs": []
    },
    {
      "cell_type": "code",
      "metadata": {
        "id": "KWBSyZnQFz9V"
      },
      "source": [
        "print(baby_yoda.name)\n",
        "print(baby_yoda.age)\n",
        "print(baby_yoda.is_insured)\n",
        "print(baby_yoda.check_insurance_eligibility())"
      ],
      "execution_count": null,
      "outputs": []
    }
  ]
}