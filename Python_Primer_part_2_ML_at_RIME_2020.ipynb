{
  "nbformat": 4,
  "nbformat_minor": 0,
  "metadata": {
    "colab": {
      "name": "Python Primer part 2 - ML at RIME 2020.ipynb",
      "provenance": [],
      "authorship_tag": "ABX9TyPQ13aFtvnuWuwWwU9Ax7xQ",
      "include_colab_link": true
    },
    "kernelspec": {
      "name": "python3",
      "display_name": "Python 3"
    }
  },
  "cells": [
    {
      "cell_type": "markdown",
      "metadata": {
        "id": "view-in-github",
        "colab_type": "text"
      },
      "source": [
        "<a href=\"https://colab.research.google.com/github/salmanmaq/python_tutorial_colab/blob/main/Python_Primer_part_2_ML_at_RIME_2020.ipynb\" target=\"_parent\"><img src=\"https://colab.research.google.com/assets/colab-badge.svg\" alt=\"Open In Colab\"/></a>"
      ]
    },
    {
      "cell_type": "markdown",
      "metadata": {
        "id": "vOutUVY4ph1f"
      },
      "source": [
        "This part mainly covers classes, structs, and inheritance.\r\n",
        "\r\n",
        "You can clone this tutorial to play with it using **File -> Save a copy in Drive** and that allow you to interact with your local copy of the notebook.\r\n",
        "\r\n",
        "For feedback, questions, and comments, I can be reached at [my email](mailto:smaqbool@smme.edu.pk)."
      ]
    },
    {
      "cell_type": "markdown",
      "metadata": {
        "id": "X_SdWHnDCGLh"
      },
      "source": [
        "## Classes"
      ]
    },
    {
      "cell_type": "code",
      "metadata": {
        "id": "URMA8-asCFNc"
      },
      "source": [
        "## Stupid example for a hypothetical place with stupid health insurance regulations\n",
        "'''\n",
        "This is a docstring comment\n",
        "'''\n",
        "class Person:\n",
        "\n",
        "  # Constructor\n",
        "  def __init__(self, name, age, is_insured=False):\n",
        "    self.name = name\n",
        "    self.age = age\n",
        "    self.is_insured = is_insured\n",
        "\n",
        "  def check_insurance_eligibility(self):\n",
        "    '''\n",
        "    Rules:\n",
        "    1. If a person is already insured, return that, irrespective of age\n",
        "    2. If a person is not insured and above 65, return not eligible\n",
        "    3. If a person is not insured and below 65, return eligible\n",
        "    '''\n",
        "    if self.is_insured:\n",
        "      return f'{self.name} is already insured'\n",
        "    else:\n",
        "      if self.age <= 65:\n",
        "        return f'{self.name} is eligible for insurance'\n",
        "      else:\n",
        "        return f'{self.name} is not eligible for insurance'"
      ],
      "execution_count": null,
      "outputs": []
    },
    {
      "cell_type": "code",
      "metadata": {
        "id": "9oufJsOhB_Ny"
      },
      "source": [
        "salman = Person(name='Salman', age=67)"
      ],
      "execution_count": null,
      "outputs": []
    },
    {
      "cell_type": "code",
      "metadata": {
        "id": "B80QCgnnEfx1"
      },
      "source": [
        "print(salman.name)\n",
        "print(salman.age)\n",
        "print(salman.is_insured)\n",
        "print(salman.check_insurance_eligibility())"
      ],
      "execution_count": null,
      "outputs": []
    },
    {
      "cell_type": "code",
      "metadata": {
        "id": "gueYkhJhEpSP"
      },
      "source": [
        "fred = Person(name='Fred', age=97, is_insured=True)"
      ],
      "execution_count": null,
      "outputs": []
    },
    {
      "cell_type": "code",
      "metadata": {
        "id": "vgvdFmkFFULb"
      },
      "source": [
        "print(fred.name)\n",
        "print(fred.age)\n",
        "print(fred.is_insured)\n",
        "print(fred.check_insurance_eligibility())"
      ],
      "execution_count": null,
      "outputs": []
    },
    {
      "cell_type": "code",
      "metadata": {
        "id": "wzl91HFKFbqe"
      },
      "source": [
        "baby_yoda = Person(name='Baby Yoda', age=50, is_insured=False)"
      ],
      "execution_count": null,
      "outputs": []
    },
    {
      "cell_type": "code",
      "metadata": {
        "id": "KWBSyZnQFz9V"
      },
      "source": [
        "print(baby_yoda.name)\n",
        "print(baby_yoda.age)\n",
        "print(baby_yoda.is_insured)\n",
        "print(baby_yoda.check_insurance_eligibility())"
      ],
      "execution_count": null,
      "outputs": []
    },
    {
      "cell_type": "markdown",
      "metadata": {
        "id": "flvV72X0rlvZ"
      },
      "source": [
        "## Structs"
      ]
    },
    {
      "cell_type": "markdown",
      "metadata": {
        "id": "H0HAHz8Srab4"
      },
      "source": [
        "Structs are just Classes without methods in Python"
      ]
    },
    {
      "cell_type": "code",
      "metadata": {
        "id": "CAcms-tvrZB7"
      },
      "source": [
        "class Vehicle:\r\n",
        "\r\n",
        "  def __init__(self, brand, name, year):\r\n",
        "    self.brand = brand\r\n",
        "    self.name = name\r\n",
        "    self.year = year"
      ],
      "execution_count": null,
      "outputs": []
    },
    {
      "cell_type": "code",
      "metadata": {
        "id": "9kBSw_qssSpM"
      },
      "source": [
        "suzuki_mehran_2013 = Vehicle('Suzuki', 'Mehran', 2013)"
      ],
      "execution_count": null,
      "outputs": []
    },
    {
      "cell_type": "code",
      "metadata": {
        "id": "MhQ62TOisqi1"
      },
      "source": [
        "print(f'The car we are looking at is {suzuki_mehran_2013.brand} {suzuki_mehran_2013.name} {suzuki_mehran_2013.year}')"
      ],
      "execution_count": null,
      "outputs": []
    },
    {
      "cell_type": "code",
      "metadata": {
        "id": "zBCGAsnKs4nr"
      },
      "source": [
        "honda_civic_2012 = Vehicle('Honda', 'Civic', 2012)"
      ],
      "execution_count": null,
      "outputs": []
    },
    {
      "cell_type": "code",
      "metadata": {
        "id": "jkl7u9g-tGFl"
      },
      "source": [
        "print(f'The car we are looking at is {honda_civic_2012.brand} {honda_civic_2012.name} {honda_civic_2012.year}')"
      ],
      "execution_count": null,
      "outputs": []
    },
    {
      "cell_type": "code",
      "metadata": {
        "id": "9Ud3cACStJjA"
      },
      "source": [
        "type(honda_civic_2012)"
      ],
      "execution_count": null,
      "outputs": []
    },
    {
      "cell_type": "markdown",
      "metadata": {
        "id": "BzPp4PnptoAp"
      },
      "source": [
        "## Inheritance"
      ]
    },
    {
      "cell_type": "markdown",
      "metadata": {
        "id": "RnPLfB9HuUNm"
      },
      "source": [
        "Example copied and adpated from [w3schools - Python Inheritance](https://www.w3schools.com/python/python_inheritance.asp)"
      ]
    },
    {
      "cell_type": "code",
      "metadata": {
        "id": "XW9TTPpetqCp"
      },
      "source": [
        "class Person:\r\n",
        "  \r\n",
        "  def __init__(self, first_name, last_name, age):\r\n",
        "    self.firstname = first_name\r\n",
        "    self.lastname = last_name\r\n",
        "    self.age = age\r\n",
        "\r\n",
        "  def print_name(self):\r\n",
        "    print(f'{self.firstname} {self.lastname}')"
      ],
      "execution_count": null,
      "outputs": []
    },
    {
      "cell_type": "code",
      "metadata": {
        "id": "Ig9tNJuGvD2y"
      },
      "source": [
        "person1 = Person(\"John\", \"Doe\", 37)\r\n",
        "person1.print_name()"
      ],
      "execution_count": null,
      "outputs": []
    },
    {
      "cell_type": "code",
      "metadata": {
        "id": "BKJfKYXXvbuU"
      },
      "source": [
        "type(person1)"
      ],
      "execution_count": null,
      "outputs": []
    },
    {
      "cell_type": "code",
      "metadata": {
        "id": "t-OvhgYst6W0"
      },
      "source": [
        "# In case we do not want to make any functional changes in the derived class\r\n",
        "class Student(Person):\r\n",
        "  pass"
      ],
      "execution_count": null,
      "outputs": []
    },
    {
      "cell_type": "code",
      "metadata": {
        "id": "A5Hq-EjYt-4h"
      },
      "source": [
        "person2 = Student(\"Jane\", \"Doe\", 34)\r\n",
        "person2.print_name()"
      ],
      "execution_count": null,
      "outputs": []
    },
    {
      "cell_type": "code",
      "metadata": {
        "id": "mOu2k_PcvsCB"
      },
      "source": [
        "type(person2)"
      ],
      "execution_count": null,
      "outputs": []
    },
    {
      "cell_type": "code",
      "metadata": {
        "id": "BDETX52MvuCW"
      },
      "source": [
        "# But now we want to make some changes and add some attributes\r\n",
        "\r\n",
        "class Student:\r\n",
        "  \r\n",
        "  # We can override the constructor by writing our own\r\n",
        "  def __init__(self, first_name, last_name, age, cGPA):\r\n",
        "    self.firstname = first_name\r\n",
        "    self.lastname = last_name\r\n",
        "    self.age = age\r\n",
        "    self.cumulative_GPA = cGPA\r\n",
        "\r\n",
        "  # Similarly, we can override any method of the parent class by writing our own\r\n",
        "  def print_name(self):\r\n",
        "    '''\r\n",
        "    Now we are in a country where the names are printed \r\n",
        "    as {Last Name}, {First Name}\r\n",
        "    '''\r\n",
        "    print(f'{self.lastname}, {self.firstname}')\r\n",
        "\r\n",
        "  # We can also add new methods\r\n",
        "  def is_passing(self):\r\n",
        "    if self.cumulative_GPA < 2.0:\r\n",
        "      return False\r\n",
        "    else:\r\n",
        "      return True\r\n",
        "\r\n",
        "  def is_passing_concise(self):\r\n",
        "    return False if self.cumulative_GPA < 2.0 else True"
      ],
      "execution_count": null,
      "outputs": []
    },
    {
      "cell_type": "markdown",
      "metadata": {
        "id": "bWJViZvBxWyM"
      },
      "source": [
        "The `if_passing` method of the Student class can also be written as:\r\n",
        "\r\n",
        "```\r\n",
        "def is_passsing(self):\r\n",
        "  return False if self.cumulative_GPA < 2.0 else True\r\n",
        "```\r\n",
        "\r\n",
        "Both ways of writing the method are equivalent"
      ]
    },
    {
      "cell_type": "code",
      "metadata": {
        "id": "dUZepWAOw1G4"
      },
      "source": [
        "studentA = Student('Salman', 'Maqbool', 69, 1.98)\r\n",
        "studentA.print_name()"
      ],
      "execution_count": null,
      "outputs": []
    },
    {
      "cell_type": "code",
      "metadata": {
        "id": "aRxa-VXVx-k2"
      },
      "source": [
        "print(studentA.is_passing())\r\n",
        "print(studentA.is_passing_concise())"
      ],
      "execution_count": null,
      "outputs": []
    },
    {
      "cell_type": "markdown",
      "metadata": {
        "id": "4RGKc2Pbyzgc"
      },
      "source": [
        "### Inheritance method 2 (Python's `super` function)"
      ]
    },
    {
      "cell_type": "markdown",
      "metadata": {
        "id": "oQ6N0067Z75E"
      },
      "source": [
        "Inspired and adpated from [Real Python - Supercharge Your Classes With Python super()](https://realpython.com/python-super/#what-can-super-do-for-you)"
      ]
    },
    {
      "cell_type": "code",
      "metadata": {
        "id": "Jd7zmX-ad6pM"
      },
      "source": [
        "class Shape:\r\n",
        "  pass"
      ],
      "execution_count": null,
      "outputs": []
    },
    {
      "cell_type": "code",
      "metadata": {
        "id": "ZmSSrQXxyUJ6"
      },
      "source": [
        "'''\r\n",
        "We could have simply done what's done above, but below kind of provides\r\n",
        "an abstract class and a template that can be used to develop child classes\r\n",
        "'''\r\n",
        "\r\n",
        "class Shape:\r\n",
        "\r\n",
        "  def get_perimeter(self):\r\n",
        "    raise NotImplementedError\r\n",
        "\r\n",
        "  def get_area(self):\r\n",
        "    raise NotImplementedError\r\n",
        "\r\n",
        "  def get_surface_area(self):\r\n",
        "    raise NotImplementedError\r\n",
        "\r\n",
        "  def get_volume(self):\r\n",
        "    raise NotImplementedError"
      ],
      "execution_count": null,
      "outputs": []
    },
    {
      "cell_type": "code",
      "metadata": {
        "id": "5s0rQeLWaLs9"
      },
      "source": [
        "class Rectangle(Shape):\r\n",
        "\r\n",
        "  def __init__(self, length, width):\r\n",
        "    self.length = length\r\n",
        "    self.width = width\r\n",
        "\r\n",
        "  def get_area(self):\r\n",
        "    return self.length * self.width"
      ],
      "execution_count": null,
      "outputs": []
    },
    {
      "cell_type": "code",
      "metadata": {
        "id": "cIPbOgB8a9FV"
      },
      "source": [
        "class Square(Rectangle):\r\n",
        "\r\n",
        "  def __init__(self, length):\r\n",
        "    self.length = length\r\n",
        "\r\n",
        "  def get_area(self):\r\n",
        "    return self.length * self.length"
      ],
      "execution_count": null,
      "outputs": []
    },
    {
      "cell_type": "markdown",
      "metadata": {
        "id": "byg4z1lpbTYC"
      },
      "source": [
        "Another way to have defined the Square class could be to use Python's `super()` function"
      ]
    },
    {
      "cell_type": "code",
      "metadata": {
        "id": "rB6Cz-nUbeUx"
      },
      "source": [
        "class SquareSupered(Rectangle):\r\n",
        "\r\n",
        "  def __init__(self, length):\r\n",
        "    super().__init__(length, length)"
      ],
      "execution_count": null,
      "outputs": []
    },
    {
      "cell_type": "code",
      "metadata": {
        "id": "_gaAqux6b1zd"
      },
      "source": [
        "rect = Rectangle(10, 20)\r\n",
        "rect.get_area()"
      ],
      "execution_count": null,
      "outputs": []
    },
    {
      "cell_type": "code",
      "metadata": {
        "id": "yBf6oSiGcK6h"
      },
      "source": [
        "sqr = Square(10)\r\n",
        "sqr.get_area()"
      ],
      "execution_count": null,
      "outputs": []
    },
    {
      "cell_type": "code",
      "metadata": {
        "id": "fJsjBr6DcYrw"
      },
      "source": [
        "sqr2 = SquareSupered(10)\r\n",
        "sqr2.get_area()\r\n",
        "\r\n",
        "'''\r\n",
        "In this case, we did not have to define a separate method for get_area() \r\n",
        "in contrast to the Square class where we had to write a separate method\r\n",
        "for get_area()\r\n",
        "'''"
      ],
      "execution_count": null,
      "outputs": []
    },
    {
      "cell_type": "markdown",
      "metadata": {
        "id": "ATp0tAWMdY0Q"
      },
      "source": [
        "Let's dive a bit deeper and try and understand `super()`'s uses"
      ]
    },
    {
      "cell_type": "code",
      "metadata": {
        "id": "yJuBqeQdcpiK"
      },
      "source": [
        "class Square(Rectangle):\r\n",
        "    \r\n",
        "    def __init__(self, length):\r\n",
        "        super().__init__(length, length)\r\n",
        "\r\n",
        "class Cube(Square):\r\n",
        "    \r\n",
        "    def get_surface_area(self):\r\n",
        "        face_area = super().get_area()\r\n",
        "        return face_area * 6\r\n",
        "\r\n",
        "    def get_volume(self):\r\n",
        "        face_area = super().get_area()\r\n",
        "        return face_area * self.length"
      ],
      "execution_count": null,
      "outputs": []
    },
    {
      "cell_type": "code",
      "metadata": {
        "id": "Sh6dexrDe7-9"
      },
      "source": [
        "cube = Cube(10)\r\n",
        "\r\n",
        "print(cube.get_area())\r\n",
        "print(cube.get_surface_area())\r\n",
        "print(cube.get_volume())"
      ],
      "execution_count": null,
      "outputs": []
    },
    {
      "cell_type": "markdown",
      "metadata": {
        "id": "QrNeVkEffrFi"
      },
      "source": [
        "`super()` returns an object of the parent class, so we can call methods directly through on that. Such as we did with:\r\n",
        "\r\n",
        "```\r\n",
        "super().get_area()\r\n",
        "```"
      ]
    },
    {
      "cell_type": "markdown",
      "metadata": {
        "id": "4N4OaRRmkpQq"
      },
      "source": [
        "## Multiple inheritance"
      ]
    },
    {
      "cell_type": "markdown",
      "metadata": {
        "id": "02TA4oL4ks3y"
      },
      "source": [
        "Python allows for multiple inheritance as well i.e. a sub-class inheriting from two or more parent classes.\r\n",
        "I encourage you to read more about it at [Real Python - Supercharge Your Classes With Python super()](https://realpython.com/python-super/#what-can-super-do-for-you) in the sections on Multiple inheritance."
      ]
    },
    {
      "cell_type": "markdown",
      "metadata": {
        "id": "FhVgHZuhlpMi"
      },
      "source": [
        "## Further reading (advanced)"
      ]
    },
    {
      "cell_type": "markdown",
      "metadata": {
        "id": "wTxW1-svlput"
      },
      "source": [
        "1. [Real Python - Inheritance and Composition: A Python OOP Guide](https://realpython.com/inheritance-composition-python/)\r\n",
        "2. [Real Python - Python's Instance, Class, and Static Methods Demystified](https://realpython.com/instance-class-and-static-methods-demystified/)"
      ]
    }
  ]
}